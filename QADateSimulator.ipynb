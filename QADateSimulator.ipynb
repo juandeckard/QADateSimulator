{
 "cells": [
  {
   "cell_type": "markdown",
   "metadata": {},
   "source": [
    "### IMPORTS"
   ]
  },
  {
   "cell_type": "code",
   "execution_count": 1,
   "metadata": {},
   "outputs": [],
   "source": [
    "from src.util import readExcel, getUsefulData, sameDayOfnextWeek, listToTuplaWithElement, findQAable, getUsefulData, generateWeeklyQA\n",
    "from src.util import startingDate,nextWeeksDate, generateWeeklyQA\n",
    "from src.util import reduceTuples, sortTuples, generateOutputFormat\n",
    "from random import seed, randint, sample\n",
    "import pandas as pd\n",
    "\n",
    "seed(5)"
   ]
  },
  {
   "cell_type": "markdown",
   "metadata": {},
   "source": [
    "### READ FILE"
   ]
  },
  {
   "cell_type": "code",
   "execution_count": 2,
   "metadata": {},
   "outputs": [],
   "source": [
    "filename, row_number, sheetname = \"pismo\", 2, \"Main\"\n",
    "#filename, row_number, sheetname = input(\"Filename: \"), int(input(\"Title row: \")), input(\"Sheet name: \")\n",
    "\n",
    "QAData, originalSize = getUsefulData(filename, row_number, sheetname)"
   ]
  },
  {
   "cell_type": "markdown",
   "metadata": {},
   "source": [
    "## QAability\n",
    "\n",
    "Now we generate a new list that outputs only the QAable listings (indexes)."
   ]
  },
  {
   "cell_type": "code",
   "execution_count": 3,
   "metadata": {},
   "outputs": [],
   "source": [
    "QAable = findQAable(QAData)"
   ]
  },
  {
   "cell_type": "markdown",
   "metadata": {},
   "source": [
    "## Sample\n",
    "Now we have a list of indexes of the listings we want to QA, but we need them to be random, so lets sample this listing. The following is the resulting array after sampled. Note, this is just an example, not the actual order we will use."
   ]
  },
  {
   "cell_type": "code",
   "execution_count": 4,
   "metadata": {},
   "outputs": [
    {
     "name": "stdout",
     "output_type": "stream",
     "text": [
      "[125, 46, 148, 68, 170, 141, 177, 198, 134, 109, 7, 193, 93, 166, 43, 191, 10, 26, 19, 70, 94, 180, 71, 113, 18, 118, 173, 1, 146, 37, 81, 52, 30, 72, 184, 14, 23, 200, 140, 90, 22, 135, 0, 133, 33, 157, 27, 124, 55, 58, 32, 196, 127, 145, 119, 144, 56, 6, 69, 84, 122, 24, 179, 8, 104, 25, 192, 112, 121, 132, 91, 61, 197, 174, 95, 182, 28, 181, 41, 67, 143, 16, 107, 60, 105, 186, 98, 160, 171, 114, 136, 116, 115, 31, 102, 50, 87, 176, 51, 54, 9, 175, 178, 57, 12, 139, 120, 86, 59, 13, 17, 92, 39, 142, 165, 73, 38, 158, 20, 199, 188, 195, 169, 15, 74]\n"
     ]
    }
   ],
   "source": [
    "print(sample(QAable,len(QAable)))"
   ]
  },
  {
   "cell_type": "markdown",
   "metadata": {},
   "source": [
    "## Data Generation\n",
    "Now we need to generate the dates and organize the data into a nice output format. In this case, we use a dataframe to make it easy to write down later."
   ]
  },
  {
   "cell_type": "code",
   "execution_count": 5,
   "metadata": {
    "scrolled": false
   },
   "outputs": [],
   "source": [
    "# Having this, let's start by saving the current info\n",
    "reduced = generateWeeklyQA(QAable, [ elem for elem in QAData.url ], [ elem for elem in QAData.address ], [ elem for elem in QAData.apn ], 10)\n",
    "\n",
    "# We make a dataframe and input the reduced version of the data we need.\n",
    "result = pd.DataFrame(reduced, columns=['index_random','dates_ordered','index_sorted','dates_sorted', 'url', 'address', 'apn'])"
   ]
  },
  {
   "cell_type": "markdown",
   "metadata": {},
   "source": [
    "## Output\n",
    "Now we write down the dataframe into an excel sheet with the name from the original file."
   ]
  },
  {
   "cell_type": "code",
   "execution_count": null,
   "metadata": {},
   "outputs": [],
   "source": [
    "result.to_excel( './io/output/' + str(filename) + '.xlsx' )"
   ]
  }
 ],
 "metadata": {
  "kernelspec": {
   "display_name": "Python 3",
   "language": "python",
   "name": "python3"
  },
  "language_info": {
   "codemirror_mode": {
    "name": "ipython",
    "version": 3
   },
   "file_extension": ".py",
   "mimetype": "text/x-python",
   "name": "python",
   "nbconvert_exporter": "python",
   "pygments_lexer": "ipython3",
   "version": "3.7.4"
  }
 },
 "nbformat": 4,
 "nbformat_minor": 2
}
