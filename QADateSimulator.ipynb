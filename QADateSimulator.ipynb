{
 "cells": [
  {
   "cell_type": "markdown",
   "metadata": {},
   "source": [
    "### IMPORTS"
   ]
  },
  {
   "cell_type": "code",
   "execution_count": 1,
   "metadata": {},
   "outputs": [],
   "source": [
    "from src.util import readExcel, getUsefulData, findQAable\n",
    "from src.util import startingDate,nextWeeksDate, generateWeeklyQA\n",
    "from src.util import reduceTuples, sortTuples\n",
    "from random import seed, randint, sample\n",
    "import pandas as pd\n",
    "import os\n",
    "\n",
    "seed(5)"
   ]
  },
  {
   "cell_type": "markdown",
   "metadata": {},
   "source": [
    "### READ FILE"
   ]
  },
  {
   "cell_type": "code",
   "execution_count": 2,
   "metadata": {},
   "outputs": [],
   "source": [
    "filename, row_number, sheetname = \"sacramento\", 2, \"Main\"\n",
    "#filename, row_number, sheetname = input(\"Filename: \"), int(input(\"Title row: \")), input(\"Sheet name: \")\n",
    "\n",
    "QAData = getUsefulData(filename, row_number, sheetname)"
   ]
  },
  {
   "cell_type": "markdown",
   "metadata": {},
   "source": [
    "## QAability\n",
    "\n",
    "Now we generate a new list that outputs only the QAable listings (indexes)."
   ]
  },
  {
   "cell_type": "code",
   "execution_count": 3,
   "metadata": {},
   "outputs": [],
   "source": [
    "QAable = findQAable(QAData)"
   ]
  },
  {
   "cell_type": "markdown",
   "metadata": {},
   "source": [
    "## Data Generation\n",
    "Now we need to generate the dates and organize the data into a nice output format. In this case, we use a dataframe to make it easy to write down later."
   ]
  },
  {
   "cell_type": "code",
   "execution_count": 4,
   "metadata": {
    "scrolled": false
   },
   "outputs": [],
   "source": [
    "# Having this, let's start by saving the current info\n",
    "reduced = generateWeeklyQA(QAable, row_number, 10)"
   ]
  },
  {
   "cell_type": "markdown",
   "metadata": {},
   "source": [
    "## Output\n",
    "Now we write down the dataframe into an excel sheet with the name from the original file."
   ]
  },
  {
   "cell_type": "code",
   "execution_count": 5,
   "metadata": {},
   "outputs": [],
   "source": [
    "# Check and make directory\n",
    "if not os.path.exists('./io/output/' + str(filename)):\n",
    "    os.makedirs('./io/output/' + str(filename))\n",
    "\n",
    "# We make a dataframe and input the reduced version of the data we need.\n",
    "result = pd.DataFrame(reduced, columns=['date','index','url','address', 'apn', 'residential', 'structure', 'rental', 'comments'])\n",
    "result.to_excel( './io/output/' + str(filename) + '/' + str(filename) + '_QA.xlsx', index = False)\n",
    "\n",
    "# We make a dataframe and input the index column, so we can have a record for later.\n",
    "record  = pd.DataFrame([elem[1] for elem in reduced])\n",
    "record.to_csv(r'./io/output/' +  str(filename) + '/' + str(filename) + '.csv', index = False, header=False)"
   ]
  },
  {
   "cell_type": "code",
   "execution_count": null,
   "metadata": {},
   "outputs": [],
   "source": []
  }
 ],
 "metadata": {
  "kernelspec": {
   "display_name": "Python 3",
   "language": "python",
   "name": "python3"
  },
  "language_info": {
   "codemirror_mode": {
    "name": "ipython",
    "version": 3
   },
   "file_extension": ".py",
   "mimetype": "text/x-python",
   "name": "python",
   "nbconvert_exporter": "python",
   "pygments_lexer": "ipython3",
   "version": "3.7.4"
  }
 },
 "nbformat": 4,
 "nbformat_minor": 2
}
